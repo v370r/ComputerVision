{
  "nbformat": 4,
  "nbformat_minor": 0,
  "metadata": {
    "colab": {
      "name": "Webscraping101.ipynb",
      "provenance": [],
      "collapsed_sections": [],
      "authorship_tag": "ABX9TyPIcaAOSdA9LoeeAS9W6IYX"
    },
    "kernelspec": {
      "name": "python3",
      "display_name": "Python 3"
    }
  },
  "cells": [
    {
      "cell_type": "markdown",
      "metadata": {
        "id": "kiIC5fNBsSUH"
      },
      "source": [
        "Import libraries\n"
      ]
    },
    {
      "cell_type": "code",
      "metadata": {
        "id": "yqxtAScasOQd"
      },
      "source": [
        "!pip install requests\n",
        "import requests  \n",
        "from bs4 import BeautifulSoup as bs # importing from beautiful soup 4"
      ],
      "execution_count": null,
      "outputs": []
    },
    {
      "cell_type": "markdown",
      "metadata": {
        "id": "jdpLAGA_s1Yc"
      },
      "source": [
        "#Loading Webpages"
      ]
    },
    {
      "cell_type": "code",
      "metadata": {
        "id": "lUKvA7ptslzH"
      },
      "source": [
        "r = requests.get(\"https://en.wikipedia.org/wiki/Cat\")\n",
        "soup = bs(r.content)  #now its a beautiful soup object\n",
        "print(soup.prettify()) #we can use directl soup but if u want it to be neat use prettify"
      ],
      "execution_count": null,
      "outputs": []
    },
    {
      "cell_type": "code",
      "metadata": {
        "id": "-nEgcEWVtrBx"
      },
      "source": [
        "# ? bs documentation\n",
        "#now lets use find and find all to find"
      ],
      "execution_count": 7,
      "outputs": []
    },
    {
      "cell_type": "markdown",
      "metadata": {
        "id": "V2-IypwLuWeU"
      },
      "source": [
        ""
      ]
    },
    {
      "cell_type": "markdown",
      "metadata": {
        "id": "m8Lgp0DSuWyG"
      },
      "source": [
        "`Lets grab all first headers`\n",
        "\n",
        "Note: `use only tags in fing`"
      ]
    },
    {
      "cell_type": "code",
      "metadata": {
        "colab": {
          "base_uri": "https://localhost:8080/"
        },
        "id": "Dw4_a4R-uA7I",
        "outputId": "600ef746-b426-48c5-c0b4-0f252583d32b"
      },
      "source": [
        "find_header =soup.find(\"h2\")  #only guves first element with a match \n",
        "find_header"
      ],
      "execution_count": 9,
      "outputs": [
        {
          "output_type": "execute_result",
          "data": {
            "text/plain": [
              "<h2 id=\"mw-toc-heading\">Contents</h2>"
            ]
          },
          "metadata": {
            "tags": []
          },
          "execution_count": 9
        }
      ]
    },
    {
      "cell_type": "code",
      "metadata": {
        "colab": {
          "base_uri": "https://localhost:8080/"
        },
        "id": "8PRwgnkSuhSl",
        "outputId": "a8f27b83-d05a-49b6-f6fb-9b94d858117a"
      },
      "source": [
        "all_find_header =soup.find_all(\"h2\")  #only guves first element with a match\n",
        "all_find_header"
      ],
      "execution_count": 10,
      "outputs": [
        {
          "output_type": "execute_result",
          "data": {
            "text/plain": [
              "[<h2 id=\"mw-toc-heading\">Contents</h2>,\n",
              " <h2><span class=\"mw-headline\" id=\"Etymology_and_naming\">Etymology and naming</span></h2>,\n",
              " <h2><span class=\"mw-headline\" id=\"Taxonomy\">Taxonomy</span></h2>,\n",
              " <h2><span class=\"mw-headline\" id=\"Evolution\">Evolution</span></h2>,\n",
              " <h2><span class=\"mw-headline\" id=\"Characteristics\">Characteristics</span></h2>,\n",
              " <h2><span class=\"mw-headline\" id=\"Senses\">Senses</span></h2>,\n",
              " <h2><span class=\"mw-headline\" id=\"Behavior\">Behavior</span></h2>,\n",
              " <h2><span class=\"mw-headline\" id=\"Lifespan_and_health\">Lifespan and health</span></h2>,\n",
              " <h2><span class=\"mw-headline\" id=\"Ecology\">Ecology</span></h2>,\n",
              " <h2><span class=\"mw-headline\" id=\"Interaction_with_humans\">Interaction with humans</span></h2>,\n",
              " <h2><span class=\"mw-headline\" id=\"See_also\">See also</span></h2>,\n",
              " <h2><span class=\"mw-headline\" id=\"References\">References</span></h2>,\n",
              " <h2><span class=\"mw-headline\" id=\"External_links\">External links</span></h2>,\n",
              " <h2>Navigation menu</h2>]"
            ]
          },
          "metadata": {
            "tags": []
          },
          "execution_count": 10
        }
      ]
    },
    {
      "cell_type": "markdown",
      "metadata": {
        "id": "CSiyclmlu80b"
      },
      "source": [
        "`lets pull all using a list`"
      ]
    },
    {
      "cell_type": "code",
      "metadata": {
        "colab": {
          "base_uri": "https://localhost:8080/"
        },
        "id": "ioQeCtxGuvmt",
        "outputId": "5f8839f9-96a0-4bfe-d3b5-17de555c4c7e"
      },
      "source": [
        "first_two_headers = soup.find([\"h1\",\"h2\"]) #first whatever it finds first\n",
        "first_two_headers"
      ],
      "execution_count": 12,
      "outputs": [
        {
          "output_type": "execute_result",
          "data": {
            "text/plain": [
              "<h1 class=\"firstHeading\" id=\"firstHeading\" lang=\"en\">Cat</h1>"
            ]
          },
          "metadata": {
            "tags": []
          },
          "execution_count": 12
        }
      ]
    },
    {
      "cell_type": "code",
      "metadata": {
        "colab": {
          "base_uri": "https://localhost:8080/"
        },
        "id": "RR-zpCc-vRTa",
        "outputId": "caaf9c37-d773-4476-e932-a366db88153c"
      },
      "source": [
        "first_two_headers = soup.find_all([\"h1\",\"h2\"]) #first whatever it finds all\n",
        "first_two_headers"
      ],
      "execution_count": 15,
      "outputs": [
        {
          "output_type": "execute_result",
          "data": {
            "text/plain": [
              "[<h1 class=\"firstHeading\" id=\"firstHeading\" lang=\"en\">Cat</h1>,\n",
              " <h2 id=\"mw-toc-heading\">Contents</h2>,\n",
              " <h2><span class=\"mw-headline\" id=\"Etymology_and_naming\">Etymology and naming</span></h2>,\n",
              " <h2><span class=\"mw-headline\" id=\"Taxonomy\">Taxonomy</span></h2>,\n",
              " <h2><span class=\"mw-headline\" id=\"Evolution\">Evolution</span></h2>,\n",
              " <h2><span class=\"mw-headline\" id=\"Characteristics\">Characteristics</span></h2>,\n",
              " <h2><span class=\"mw-headline\" id=\"Senses\">Senses</span></h2>,\n",
              " <h2><span class=\"mw-headline\" id=\"Behavior\">Behavior</span></h2>,\n",
              " <h2><span class=\"mw-headline\" id=\"Lifespan_and_health\">Lifespan and health</span></h2>,\n",
              " <h2><span class=\"mw-headline\" id=\"Ecology\">Ecology</span></h2>,\n",
              " <h2><span class=\"mw-headline\" id=\"Interaction_with_humans\">Interaction with humans</span></h2>,\n",
              " <h2><span class=\"mw-headline\" id=\"See_also\">See also</span></h2>,\n",
              " <h2><span class=\"mw-headline\" id=\"References\">References</span></h2>,\n",
              " <h2><span class=\"mw-headline\" id=\"External_links\">External links</span></h2>,\n",
              " <h2>Navigation menu</h2>]"
            ]
          },
          "metadata": {
            "tags": []
          },
          "execution_count": 15
        }
      ]
    },
    {
      "cell_type": "code",
      "metadata": {
        "colab": {
          "base_uri": "https://localhost:8080/"
        },
        "id": "PGJYu0m9vaEQ",
        "outputId": "1892cc65-221a-4155-8f19-8787967c63ce"
      },
      "source": [
        "paragraph =soup.find_all(\"span\",attrs={\"id\" :\"Behavior\"}) #id is identifier\n",
        "paragraph"
      ],
      "execution_count": 21,
      "outputs": [
        {
          "output_type": "execute_result",
          "data": {
            "text/plain": [
              "[<span class=\"mw-headline\" id=\"Behavior\">Behavior</span>]"
            ]
          },
          "metadata": {
            "tags": []
          },
          "execution_count": 21
        }
      ]
    },
    {
      "cell_type": "code",
      "metadata": {
        "colab": {
          "base_uri": "https://localhost:8080/"
        },
        "id": "DQlVRttswf4c",
        "outputId": "401883ff-2436-4130-84a2-f452308df51d"
      },
      "source": [
        "#finding body and ints divs\n",
        "body = soup.find_all(\"p\")\n",
        "body[:3]"
      ],
      "execution_count": 27,
      "outputs": [
        {
          "output_type": "execute_result",
          "data": {
            "text/plain": [
              "[<p class=\"mw-empty-elt\">\n",
              " </p>, <p class=\"mw-empty-elt\">\n",
              " </p>, <p>The <b>cat</b> (<i>Felis catus</i>) is a <a href=\"/wiki/Domestication\" title=\"Domestication\">domestic</a> <a href=\"/wiki/Species\" title=\"Species\">species</a> of small <a class=\"mw-redirect\" href=\"/wiki/Carnivorous\" title=\"Carnivorous\">carnivorous</a> <a href=\"/wiki/Mammal\" title=\"Mammal\">mammal</a>.<sup class=\"reference\" id=\"cite_ref-Linnaeus1758_1-1\"><a href=\"#cite_note-Linnaeus1758-1\">[1]</a></sup><sup class=\"reference\" id=\"cite_ref-MSW3fc_2-1\"><a href=\"#cite_note-MSW3fc-2\">[2]</a></sup> It is the only domesticated species in the family <a href=\"/wiki/Felidae\" title=\"Felidae\">Felidae</a> and is often referred to as the <b>domestic cat</b> to distinguish it from the wild members of the family.<sup class=\"reference\" id=\"cite_ref-Clutton-Brock1999_4-0\"><a href=\"#cite_note-Clutton-Brock1999-4\">[4]</a></sup> A cat can either be a <b>house cat</b>, a <a href=\"/wiki/Farm_cat\" title=\"Farm cat\">farm cat</a> or a <a href=\"/wiki/Feral_cat\" title=\"Feral cat\">feral cat</a>; the latter ranges freely and avoids human contact.<sup class=\"reference\" id=\"cite_ref-Liberg_al2014_5-0\"><a href=\"#cite_note-Liberg_al2014-5\">[5]</a></sup> Domestic cats are valued by humans for companionship and their ability to hunt <a href=\"/wiki/Rodent\" title=\"Rodent\">rodents</a>. About 60 <a class=\"mw-redirect\" href=\"/wiki/Cat_breeds\" title=\"Cat breeds\">cat breeds</a> are recognized by various <a class=\"mw-redirect\" href=\"/wiki/Cat_registries\" title=\"Cat registries\">cat registries</a>.<sup class=\"reference\" id=\"cite_ref-Driscoll_al2009_6-0\"><a href=\"#cite_note-Driscoll_al2009-6\">[6]</a></sup>\n",
              " </p>]"
            ]
          },
          "metadata": {
            "tags": []
          },
          "execution_count": 27
        }
      ]
    },
    {
      "cell_type": "code",
      "metadata": {
        "id": "DdivJCrIxqm1"
      },
      "source": [
        "body = soup.find(\"body\")\n",
        "div = body.find_all(\"div\") #dont use soup.findall and then find from body it throws an error finding from list\n",
        "div"
      ],
      "execution_count": null,
      "outputs": []
    },
    {
      "cell_type": "code",
      "metadata": {
        "colab": {
          "base_uri": "https://localhost:8080/"
        },
        "id": "Z3ulH5HPyPzy",
        "outputId": "aa3df51d-6348-4d4d-c16d-629126c1b30f"
      },
      "source": [
        "links = []\n",
        "for link in soup.findAll('a'):\n",
        "    links.append(link.get(\"href\"))\n",
        "links[:5]"
      ],
      "execution_count": 44,
      "outputs": [
        {
          "output_type": "execute_result",
          "data": {
            "text/plain": [
              "[None,\n",
              " '/wiki/Wikipedia:Good_articles',\n",
              " '/wiki/Wikipedia:Protection_policy#semi',\n",
              " '/wiki/File:En-Cat_(part_1).ogg',\n",
              " '#mw-head']"
            ]
          },
          "metadata": {
            "tags": []
          },
          "execution_count": 44
        }
      ]
    },
    {
      "cell_type": "code",
      "metadata": {
        "colab": {
          "base_uri": "https://localhost:8080/"
        },
        "id": "arvjMOu5zMus",
        "outputId": "df94f9f7-1007-44a6-aadd-2ca7c4d7b852"
      },
      "source": [
        "soup.find_all(\"a\")[:4]"
      ],
      "execution_count": 48,
      "outputs": [
        {
          "output_type": "execute_result",
          "data": {
            "text/plain": [
              "[<a id=\"top\"></a>,\n",
              " <a href=\"/wiki/Wikipedia:Good_articles\" title=\"This is a good article. Click here for more information.\"><img alt=\"This is a good article. Click here for more information.\" data-file-height=\"185\" data-file-width=\"180\" decoding=\"async\" height=\"20\" src=\"//upload.wikimedia.org/wikipedia/en/thumb/9/94/Symbol_support_vote.svg/19px-Symbol_support_vote.svg.png\" srcset=\"//upload.wikimedia.org/wikipedia/en/thumb/9/94/Symbol_support_vote.svg/29px-Symbol_support_vote.svg.png 1.5x, //upload.wikimedia.org/wikipedia/en/thumb/9/94/Symbol_support_vote.svg/39px-Symbol_support_vote.svg.png 2x\" width=\"19\"/></a>,\n",
              " <a href=\"/wiki/Wikipedia:Protection_policy#semi\" title=\"This article is semi-protected.\"><img alt=\"Page semi-protected\" data-file-height=\"512\" data-file-width=\"512\" decoding=\"async\" height=\"20\" src=\"//upload.wikimedia.org/wikipedia/en/thumb/1/1b/Semi-protection-shackle.svg/20px-Semi-protection-shackle.svg.png\" srcset=\"//upload.wikimedia.org/wikipedia/en/thumb/1/1b/Semi-protection-shackle.svg/30px-Semi-protection-shackle.svg.png 1.5x, //upload.wikimedia.org/wikipedia/en/thumb/1/1b/Semi-protection-shackle.svg/40px-Semi-protection-shackle.svg.png 2x\" width=\"20\"/></a>,\n",
              " <a href=\"/wiki/File:En-Cat_(part_1).ogg\" title=\"Listen to this article\"><img alt=\"Listen to this article\" data-file-height=\"96\" data-file-width=\"128\" decoding=\"async\" height=\"15\" src=\"//upload.wikimedia.org/wikipedia/commons/thumb/4/47/Sound-icon.svg/20px-Sound-icon.svg.png\" srcset=\"//upload.wikimedia.org/wikipedia/commons/thumb/4/47/Sound-icon.svg/30px-Sound-icon.svg.png 1.5x, //upload.wikimedia.org/wikipedia/commons/thumb/4/47/Sound-icon.svg/40px-Sound-icon.svg.png 2x\" width=\"20\"/></a>]"
            ]
          },
          "metadata": {
            "tags": []
          },
          "execution_count": 48
        }
      ]
    },
    {
      "cell_type": "code",
      "metadata": {
        "colab": {
          "base_uri": "https://localhost:8080/"
        },
        "id": "4c0zp3SZz9hp",
        "outputId": "6d83f35c-6084-41d8-ad35-0a8121173af1"
      },
      "source": [
        "#Lets find contnet with given string in a paragraph\n",
        "divs = soup.find_all(\"div\",string = \"Cats\") #not ideal have to give exact string to find \n",
        "divs"
      ],
      "execution_count": 56,
      "outputs": [
        {
          "output_type": "execute_result",
          "data": {
            "text/plain": [
              "[]"
            ]
          },
          "metadata": {
            "tags": []
          },
          "execution_count": 56
        }
      ]
    },
    {
      "cell_type": "markdown",
      "metadata": {
        "id": "LdqpgmDx1QSZ"
      },
      "source": [
        "`Using regex`"
      ]
    },
    {
      "cell_type": "code",
      "metadata": {
        "colab": {
          "base_uri": "https://localhost:8080/"
        },
        "id": "HYc2yvty0jH5",
        "outputId": "e6b7b69d-2edd-480c-d298-953f5d1bf1d7"
      },
      "source": [
        "import re\n",
        "div = soup.find_all(\"div\",string = re.compile(\"(C|c)at\")) #now checks for capital c or lower case c\n",
        "div"
      ],
      "execution_count": 60,
      "outputs": [
        {
          "output_type": "execute_result",
          "data": {
            "text/plain": [
              "[<div class=\"shortdescription nomobile noexcerpt noprint searchaux\" style=\"display:none\">Domesticated felid species</div>,\n",
              " <div class=\"thumbcaption\">A 19th-century drawing of a tabby cat</div>,\n",
              " <div id=\"Domestic_cats\" style=\"font-size:114%;margin:0 4em\"><a class=\"mw-selflink selflink\">Domestic cats</a></div>]"
            ]
          },
          "metadata": {
            "tags": []
          },
          "execution_count": 60
        }
      ]
    },
    {
      "cell_type": "markdown",
      "metadata": {
        "id": "pv0po0_T2Bcm"
      },
      "source": [
        "Css selector (better use reference page)\n",
        "\n",
        "[css Selctor](https://www.w3schools.com/cssref/css_selectors.asp)"
      ]
    },
    {
      "cell_type": "markdown",
      "metadata": {
        "id": "5Ajc2qP23RoJ"
      },
      "source": [
        "`select paragraphs inside div`"
      ]
    },
    {
      "cell_type": "code",
      "metadata": {
        "colab": {
          "base_uri": "https://localhost:8080/"
        },
        "id": "P3uWsDCU1eMw",
        "outputId": "18eaaf49-872a-49eb-f887-b1dba1e0cdc4"
      },
      "source": [
        "content = soup.select(\"div p\")\n",
        "content[:3]"
      ],
      "execution_count": 62,
      "outputs": [
        {
          "output_type": "execute_result",
          "data": {
            "text/plain": [
              "[<p class=\"mw-empty-elt\">\n",
              " </p>, <p class=\"mw-empty-elt\">\n",
              " </p>, <p>The <b>cat</b> (<i>Felis catus</i>) is a <a href=\"/wiki/Domestication\" title=\"Domestication\">domestic</a> <a href=\"/wiki/Species\" title=\"Species\">species</a> of small <a class=\"mw-redirect\" href=\"/wiki/Carnivorous\" title=\"Carnivorous\">carnivorous</a> <a href=\"/wiki/Mammal\" title=\"Mammal\">mammal</a>.<sup class=\"reference\" id=\"cite_ref-Linnaeus1758_1-1\"><a href=\"#cite_note-Linnaeus1758-1\">[1]</a></sup><sup class=\"reference\" id=\"cite_ref-MSW3fc_2-1\"><a href=\"#cite_note-MSW3fc-2\">[2]</a></sup> It is the only domesticated species in the family <a href=\"/wiki/Felidae\" title=\"Felidae\">Felidae</a> and is often referred to as the <b>domestic cat</b> to distinguish it from the wild members of the family.<sup class=\"reference\" id=\"cite_ref-Clutton-Brock1999_4-0\"><a href=\"#cite_note-Clutton-Brock1999-4\">[4]</a></sup> A cat can either be a <b>house cat</b>, a <a href=\"/wiki/Farm_cat\" title=\"Farm cat\">farm cat</a> or a <a href=\"/wiki/Feral_cat\" title=\"Feral cat\">feral cat</a>; the latter ranges freely and avoids human contact.<sup class=\"reference\" id=\"cite_ref-Liberg_al2014_5-0\"><a href=\"#cite_note-Liberg_al2014-5\">[5]</a></sup> Domestic cats are valued by humans for companionship and their ability to hunt <a href=\"/wiki/Rodent\" title=\"Rodent\">rodents</a>. About 60 <a class=\"mw-redirect\" href=\"/wiki/Cat_breeds\" title=\"Cat breeds\">cat breeds</a> are recognized by various <a class=\"mw-redirect\" href=\"/wiki/Cat_registries\" title=\"Cat registries\">cat registries</a>.<sup class=\"reference\" id=\"cite_ref-Driscoll_al2009_6-0\"><a href=\"#cite_note-Driscoll_al2009-6\">[6]</a></sup>\n",
              " </p>]"
            ]
          },
          "metadata": {
            "tags": []
          },
          "execution_count": 62
        }
      ]
    },
    {
      "cell_type": "markdown",
      "metadata": {
        "id": "-mCCYbaA3oy4"
      },
      "source": [
        "find paragraph directly after h2"
      ]
    },
    {
      "cell_type": "code",
      "metadata": {
        "colab": {
          "base_uri": "https://localhost:8080/"
        },
        "id": "VjFucCjU3bGi",
        "outputId": "ff79e961-70a9-46f8-f9a9-8f236c64f650"
      },
      "source": [
        "h_2_para = soup.select(\"h2 ~ p\") #parag..\n",
        "h_2_para[:3]"
      ],
      "execution_count": 65,
      "outputs": [
        {
          "output_type": "execute_result",
          "data": {
            "text/plain": [
              "[<p>The origin of the English word 'cat', <a href=\"/wiki/Old_English\" title=\"Old English\">Old English</a> <i lang=\"ang\" title=\"Old English (ca. 450-1100) language text\">catt</i>, is thought to be the <a href=\"/wiki/Late_Latin\" title=\"Late Latin\">Late Latin</a> word <i lang=\"la\" title=\"Latin language text\">cattus</i>, which was first used at the beginning of the 6th century.<sup class=\"reference\" id=\"cite_ref-18\"><a href=\"#cite_note-18\">[18]</a></sup> It was suggested that the word 'cattus' is derived from an <a href=\"/wiki/Egyptian_language\" title=\"Egyptian language\">Egyptian</a> precursor of <a href=\"/wiki/Coptic_language\" title=\"Coptic language\">Coptic</a> <span lang=\"cop\" title=\"Coptic language text\"><a class=\"extiw\" href=\"https://en.wiktionary.org/wiki/%CF%A3%E2%B2%81%E2%B2%A9\" title=\"wikt:ϣⲁⲩ\">ϣⲁⲩ</a></span> <i lang=\"cop-Latn\" title=\"Coptic language text\">šau</i>, \"tomcat\", or its feminine form suffixed with <i lang=\"egy-Latn\" title=\"Ancient Egyptian language text\">-t</i>.<sup class=\"reference\" id=\"cite_ref-19\"><a href=\"#cite_note-19\">[19]</a></sup>\n",
              " The Late Latin word may be derived from another <a class=\"mw-redirect\" href=\"/wiki/Afro-Asiatic\" title=\"Afro-Asiatic\">Afro-Asiatic</a><sup class=\"reference\" id=\"cite_ref-20\"><a href=\"#cite_note-20\">[20]</a></sup> or <a class=\"mw-redirect\" href=\"/wiki/Nilo-Saharan\" title=\"Nilo-Saharan\">Nilo-Saharan</a> language. The <a href=\"/wiki/Nubian_languages\" title=\"Nubian languages\">Nubian</a> word <i lang=\"nub\" title=\"Nubian languages collective text\">kaddîska</i> \"wildcat\" and <a href=\"/wiki/Nobiin_language\" title=\"Nobiin language\">Nobiin</a> <i lang=\"nub\" title=\"Nubian languages collective text\">kadīs</i> are possible sources or cognates.<sup class=\"reference\" id=\"cite_ref-21\"><a href=\"#cite_note-21\">[21]</a></sup> The Nubian word may be a loan from <a class=\"mw-redirect\" href=\"/wiki/Arabic_language\" title=\"Arabic language\">Arabic</a> <span dir=\"rtl\" lang=\"ar\" title=\"Arabic language text\">قَطّ‎</span> <i lang=\"ar-Latn\" title=\"Arabic language text\">qaṭṭ</i> ~ <span dir=\"rtl\" lang=\"ar\" title=\"Arabic language text\">قِطّ</span> <i lang=\"ar-Latn\" title=\"Arabic language text\">qiṭṭ</i>. It is \"equally likely that the forms might derive from an ancient Germanic word, imported into Latin and thence to Greek and to Syriac and Arabic\".<sup class=\"reference\" id=\"cite_ref-22\"><a href=\"#cite_note-22\">[22]</a></sup> The word may be derived from Germanic and Northern European languages, and ultimately be borrowed from <a href=\"/wiki/Uralic_languages\" title=\"Uralic languages\">Uralic</a>, cf. <a class=\"mw-redirect\" href=\"/wiki/Northern_Sami_language\" title=\"Northern Sami language\">Northern Sami</a> <i lang=\"se\" title=\"Northern Sami language text\">gáđfi</i>, \"female <a href=\"/wiki/Stoat\" title=\"Stoat\">stoat</a>\", and <a href=\"/wiki/Hungarian_language\" title=\"Hungarian language\">Hungarian</a> <i lang=\"hu\" title=\"Hungarian language text\">hölgy</i>, \"stoat\"; from <a href=\"/wiki/Proto-Uralic_language\" title=\"Proto-Uralic language\">Proto-Uralic</a> <i>*käďwä</i>, \"female (of a furred animal)\".<sup class=\"reference\" id=\"cite_ref-23\"><a href=\"#cite_note-23\">[23]</a></sup>\n",
              " </p>,\n",
              " <p>The English <i><a class=\"extiw\" href=\"https://en.wiktionary.org/wiki/puss#English\" title=\"wikt:puss\">puss</a></i>, extended as <i>pussy</i> and <i>pussycat</i>, is attested from the 16th century and may have been introduced from <a href=\"/wiki/Dutch_language\" title=\"Dutch language\">Dutch</a> <i lang=\"nl\" title=\"Dutch language text\">poes</i> or from <a href=\"/wiki/Low_German\" title=\"Low German\">Low German</a> <i lang=\"nds\" title=\"Low German language text\">puuskatte</i>, related to <a href=\"/wiki/Swedish_language\" title=\"Swedish language\">Swedish</a> <i lang=\"sv\" title=\"Swedish language text\">kattepus</i>, or <a href=\"/wiki/Norwegian_language\" title=\"Norwegian language\">Norwegian</a> <i lang=\"no\" title=\"Norwegian language text\">pus</i>, <i lang=\"no\" title=\"Norwegian language text\">pusekatt</i>. Similar forms exist in Lithuanian <i lang=\"lt\" title=\"Lithuanian language text\">puižė</i> and <a href=\"/wiki/Irish_language\" title=\"Irish language\">Irish</a> <i lang=\"ga\" title=\"Irish language text\">puisín</i> or <i lang=\"ga\" title=\"Irish language text\">puiscín</i>. The etymology of this word is unknown, but it may have simply <a href=\"/wiki/Onomatopoeia\" title=\"Onomatopoeia\">arisen from a sound</a> used to attract a cat.<sup class=\"reference\" id=\"cite_ref-24\"><a href=\"#cite_note-24\">[24]</a></sup><sup class=\"reference\" id=\"cite_ref-Gramercy_Unabridged_25-0\"><a href=\"#cite_note-Gramercy_Unabridged-25\">[25]</a></sup>\n",
              " </p>,\n",
              " <p>A male cat is called a <i>tom</i> or <i>tomcat</i><sup class=\"reference\" id=\"cite_ref-26\"><a href=\"#cite_note-26\">[26]</a></sup> (or a <i>gib</i>,<sup class=\"reference\" id=\"cite_ref-27\"><a href=\"#cite_note-27\">[27]</a></sup> if neutered). An <a class=\"mw-redirect\" href=\"/wiki/Spaying\" title=\"Spaying\">unspayed</a> female is called a <i>queen</i>,<sup class=\"reference\" id=\"cite_ref-28\"><a href=\"#cite_note-28\">[28]</a></sup> especially in a cat-breeding context. A juvenile cat is referred to as a <i><a href=\"/wiki/Kitten\" title=\"Kitten\">kitten</a></i>. In <a href=\"/wiki/Early_Modern_English\" title=\"Early Modern English\">Early Modern English</a>, the word <i>kitten</i> was interchangeable with the now-obsolete word <i>catling</i>.<sup class=\"reference\" id=\"cite_ref-29\"><a href=\"#cite_note-29\">[29]</a></sup> A group of cats can be referred to as a <i>clowder</i> or a <i>glaring</i>.<sup class=\"reference\" id=\"cite_ref-30\"><a href=\"#cite_note-30\">[30]</a></sup>\n",
              " </p>]"
            ]
          },
          "metadata": {
            "tags": []
          },
          "execution_count": 65
        }
      ]
    },
    {
      "cell_type": "code",
      "metadata": {
        "colab": {
          "base_uri": "https://localhost:8080/"
        },
        "id": "1CyeY8gL3t8x",
        "outputId": "d4e73865-11d6-456c-e721-be0f90130570"
      },
      "source": [
        "bold_text = soup.select(\"p#paragraph-id b\") #paragraph with #id \n",
        "bold_text"
      ],
      "execution_count": 67,
      "outputs": [
        {
          "output_type": "execute_result",
          "data": {
            "text/plain": [
              "[]"
            ]
          },
          "metadata": {
            "tags": []
          },
          "execution_count": 67
        }
      ]
    },
    {
      "cell_type": "markdown",
      "metadata": {
        "id": "Pk-G4VYe5P0K"
      },
      "source": [
        "`>` : Selects all <p> elements where the parent is a <div> element"
      ]
    },
    {
      "cell_type": "code",
      "metadata": {
        "colab": {
          "base_uri": "https://localhost:8080/"
        },
        "id": "pJsb6l4u4RSx",
        "outputId": "3093bdce-f5fe-441b-e7e1-a2aab09b9d2b"
      },
      "source": [
        "paragraphs = soup.select(\"div > p\")\n",
        "for x in paragraphs:\n",
        "  a = x.select(\"i\") \n",
        "  if len(a):  # remove empty \n",
        "    print(a)\n"
      ],
      "execution_count": 88,
      "outputs": [
        {
          "output_type": "stream",
          "text": [
            "[<i>Felis catus</i>]\n",
            "[<i lang=\"ang\" title=\"Old English (ca. 450-1100) language text\">catt</i>, <i lang=\"la\" title=\"Latin language text\">cattus</i>, <i lang=\"cop-Latn\" title=\"Coptic language text\">šau</i>, <i lang=\"egy-Latn\" title=\"Ancient Egyptian language text\">-t</i>, <i lang=\"nub\" title=\"Nubian languages collective text\">kaddîska</i>, <i lang=\"nub\" title=\"Nubian languages collective text\">kadīs</i>, <i lang=\"ar-Latn\" title=\"Arabic language text\">qaṭṭ</i>, <i lang=\"ar-Latn\" title=\"Arabic language text\">qiṭṭ</i>, <i lang=\"se\" title=\"Northern Sami language text\">gáđfi</i>, <i lang=\"hu\" title=\"Hungarian language text\">hölgy</i>, <i>*käďwä</i>]\n",
            "[<i><a class=\"extiw\" href=\"https://en.wiktionary.org/wiki/puss#English\" title=\"wikt:puss\">puss</a></i>, <i>pussy</i>, <i>pussycat</i>, <i lang=\"nl\" title=\"Dutch language text\">poes</i>, <i lang=\"nds\" title=\"Low German language text\">puuskatte</i>, <i lang=\"sv\" title=\"Swedish language text\">kattepus</i>, <i lang=\"no\" title=\"Norwegian language text\">pus</i>, <i lang=\"no\" title=\"Norwegian language text\">pusekatt</i>, <i lang=\"lt\" title=\"Lithuanian language text\">puižė</i>, <i lang=\"ga\" title=\"Irish language text\">puisín</i>, <i lang=\"ga\" title=\"Irish language text\">puiscín</i>]\n",
            "[<i>tom</i>, <i>tomcat</i>, <i>gib</i>, <i>queen</i>, <i><a href=\"/wiki/Kitten\" title=\"Kitten\">kitten</a></i>, <i>kitten</i>, <i>catling</i>, <i>clowder</i>, <i>glaring</i>]\n",
            "[<i>Felis catus</i>, <i>Felis catus domesticus</i>, <i>Felis daemon</i>]\n",
            "[<i>Felis catus</i>, <i>F. silvestris catus</i>, <i>F. silvestris</i>, <i>Felis catus</i>]\n",
            "[<i>Felis</i>, <i>Felis</i>, <i>Prionailurus bengalensis</i>]\n",
            "[<i>F. lybica</i>, <i>Mus musculus</i>]\n",
            "[<i><a href=\"/wiki/Leopardus\" title=\"Leopardus\">Leopardus</a></i>]\n",
            "[<i><a href=\"/wiki/Actinidia_polygama\" title=\"Actinidia polygama\">Actinidia polygama</a></i>]\n",
            "[<i>perching</i>]\n",
            "[<i><a class=\"mw-redirect\" href=\"/wiki/Erithacus_rubecula\" title=\"Erithacus rubecula\">Erithacus rubecula</a></i>, <i><a class=\"mw-redirect\" href=\"/wiki/Prunella_modularis\" title=\"Prunella modularis\">Prunella modularis</a></i>]\n",
            "[<i><a href=\"/wiki/Chioninia_coctei\" title=\"Chioninia coctei\">Chioninia coctei</a>.</i>]\n",
            "[<i>Loco</i>]\n",
            "[<i lang=\"grc-Latn\" title=\"Ancient Greek (to 1453) language text\">ailouros</i>, <i><a href=\"/wiki/History_of_Animals\" title=\"History of Animals\">History of Animals</a></i>, <i><a href=\"/wiki/Metamorphoses\" title=\"Metamorphoses\">Metamorphoses</a></i>]\n",
            "[<i lang=\"ja-Latn\" title=\"Japanese language text\"><a class=\"mw-redirect\" href=\"/wiki/Maneki_neko\" title=\"Maneki neko\">maneki neko</a></i>, <i><a class=\"mw-redirect\" href=\"/wiki/Muezza\" title=\"Muezza\">Muezza</a></i>]\n",
            "[<i><a href=\"/wiki/Wikipedia:Citation_needed\" title=\"Wikipedia:Citation needed\"><span title=\"The origins and explanation of this myth need a credible source (September 2020)\">citation needed</span></a></i>]\n"
          ],
          "name": "stdout"
        }
      ]
    },
    {
      "cell_type": "markdown",
      "metadata": {
        "id": "XOxH1bFACSAe"
      },
      "source": [
        "#Exercise:"
      ]
    },
    {
      "cell_type": "code",
      "metadata": {
        "colab": {
          "base_uri": "https://localhost:8080/",
          "height": 137
        },
        "id": "NLEUn9tnCRpf",
        "outputId": "5defb224-fdd2-4527-bc4d-4522bf2f081c"
      },
      "source": [
        "r = requests.get(\"https://iith.ac.in/\")\n",
        "webpage = bs(r.content)\n",
        "webpage.prettify()"
      ],
      "execution_count": 76,
      "outputs": [
        {
          "output_type": "execute_result",
          "data": {
            "application/vnd.google.colaboratory.intrinsic+json": {
              "type": "string"
            },
            "text/plain": [
              "'<!DOCTYPE html>\\n<html lang=\"en\">\\n <head>\\n  <meta charset=\"utf-8\"/>\\n  <meta content=\"width=device-width, initial-scale=1, shrink-to-fit=no\" name=\"viewport\"/>\\n  <link href=\"/assets/images/favicon.png\" rel=\"icon\"/>\\n  <title>\\n   Home | IIT Hyderabad\\n  </title>\\n  <!-- Begin Jekyll SEO tag v2.6.1 -->\\n  <title>\\n   Home | IIT Hyderabad\\n  </title>\\n  <meta content=\"Jekyll v3.9.0\" name=\"generator\"/>\\n  <meta content=\"Home\" property=\"og:title\"/>\\n  <meta content=\"en\" property=\"og:locale\"/>\\n  <meta content=\"IIT Hyderabad web portal\" name=\"description\"/>\\n  <meta content=\"IIT Hyderabad web portal\" property=\"og:description\"/>\\n  <link href=\"/\" rel=\"canonical\"/>\\n  <meta content=\"/\" property=\"og:url\"/>\\n  <meta content=\"IIT Hyderabad\" property=\"og:site_name\"/>\\n  <link href=\"/page2\" rel=\"next\"/>\\n  <script type=\"application/ld+json\">\\n   {\"name\":\"IIT Hyderabad\",\"description\":\"IIT Hyderabad web portal\",\"@type\":\"WebSite\",\"url\":\"/\",\"publisher\":{\"@type\":\"Organization\",\"logo\":{\"@type\":\"ImageObject\",\"url\":\"/assets/images/logo.png\"}},\"headline\":\"Home\",\"@context\":\"https://schema.org\"}\\n  </script>\\n  <!-- End Jekyll SEO tag -->\\n  <link href=\"/assets/css/bootstrap.min.css\" rel=\"stylesheet\"/>\\n  <link href=\"/assets/css/font-awesome.min.css\" rel=\"stylesheet\"/>\\n  <link href=\"/assets/css/google-css.css\" rel=\"stylesheet\"/>\\n  <link href=\"/assets/css/theme.css\" rel=\"stylesheet\"/>\\n  <link href=\"/assets/css/faculty.css\" rel=\"stylesheet\"/>\\n  <link href=\"/assets/css/custom.css\" rel=\"stylesheet\"/>\\n  <link href=\"https://cdnjs.cloudflare.com/ajax/libs/animate.css/3.7.2/animate.min.css\" rel=\"stylesheet\"/>\\n  <link href=\"https://cdnjs.cloudflare.com/ajax/libs/normalize/8.0.1/normalize.min.css\"/>\\n  <script src=\"https://ajax.googleapis.com/ajax/libs/jquery/3.3.1/jquery.min.js\">\\n  </script>\\n  <script src=\"/assets/js/faculty-search.js\">\\n  </script>\\n  <script src=\"/assets/js/jquery.min.js\">\\n  </script>\\n  <link href=\"https://fonts.googleapis.com/css?family=Roboto&amp;display=swap\" rel=\"stylesheet\"/>\\n  <script async=\"\" src=\"https://www.googletagmanager.com/gtag/js?id=UA-137608318-1\">\\n  </script>\\n  <script>\\n   window.dataLayer = window.dataLayer || [];\\n        function gtag() { dataLayer.push(arguments); }\\n        gtag(\\'js\\', new Date());\\n\\n        gtag(\\'config\\', \\'UA-137608318-1\\');\\n  </script>\\n </head>\\n <body class=\"layout-default\">\\n  <!-- Begin Menu Navigation\\n================================================== -->\\n  <header class=\"navbar navbar-toggleable-md navbar-light bg-white fixed-top mediumnavigation\" id=\"head-nav\">\\n   <button aria-controls=\"navbarsWow\" aria-expanded=\"false\" aria-label=\"Toggle navigation\" class=\"navbar-toggler navbar-toggler-right\" data-target=\"#navbarsWow\" data-toggle=\"collapse\" type=\"button\">\\n    <span class=\"navbar-toggler-icon\">\\n    </span>\\n   </button>\\n   <div class=\"container-fluid\">\\n   </div>\\n   <!-- Begin Logo -->\\n   <a class=\"navbar-brand\" href=\"/\">\\n    <!-- <img src=\"/assets/images/logo.png\" alt=\"IIT Hyderabad\" style=\"width:55%\"> -->\\n    <img src=\"/assets/images/horzlogolong.png\"/>\\n   </a>\\n   <!-- End Logo -->\\n   <!-- Begin Menu -->\\n   <div class=\"collapse navbar-collapse\" id=\"navbarsWow\">\\n    <!-- Begin Menu -->\\n    <ul class=\"navbar-nav ml-auto\">\\n     <li class=\"nav-item dropdown\">\\n      <a aria-expanded=\"false\" aria-haspopup=\"true\" class=\"nav-link dropdown-toggle\" data-toggle=\"dropdown\" href=\"\" id=\"dropdown01\">\\n       Academics\\n      </a>\\n      <div aria-labelledby=\"dropdown01\" class=\"dropdown-menu\" style=\"margin-top: unset\">\\n       <div class=\"navbar-dropdown\">\\n        <a class=\"dropdown-item \" href=\"/academics/index.html#admissions\">\\n         Admissions\\n        </a>\\n        <a class=\"dropdown-item \" href=\"/academics/programmes-offered\">\\n         Programs\\n        </a>\\n        <a class=\"dropdown-item \" href=\"/academics/departments\">\\n         Departments\\n        </a>\\n        <a class=\"dropdown-item \" href=\"/academics/calendars-timetables\">\\n         Calendars &amp; Timetables\\n        </a>\\n        <a class=\"dropdown-item \" href=\"https://ocs.iith.ac.in/\" target=\"_blank\">\\n         Placements &amp; Internships\\n        </a>\\n        <span>\\n         <a class=\"dropdown-item red\" href=\"/academics/index.html\">\\n          Office of\\n                                    Academic Affairs\\n         </a>\\n        </span>\\n       </div>\\n      </div>\\n     </li>\\n     <li class=\"nav-item dropdown\">\\n      <a aria-expanded=\"false\" aria-haspopup=\"true\" class=\"nav-link dropdown-toggle\" data-toggle=\"dropdown\" href=\"\" id=\"dropdown02\">\\n       Research\\n      </a>\\n      <div aria-labelledby=\"dropdown01\" class=\"dropdown-menu\" style=\"margin-top: unset\">\\n       <div class=\"navbar-dropdown\">\\n        <a class=\"dropdown-item \" href=\"/research/researchHighlights\">\\n         Research Highlights\\n        </a>\\n        <a class=\"dropdown-item \" href=\"/research/facilities\">\\n         Research Facilities\\n        </a>\\n        <a class=\"dropdown-item \" href=\"/research/centres-incubators/\">\\n         Centres and Incubators\\n        </a>\\n        <a class=\"dropdown-item \" href=\"/research/technology-transfer/\">\\n         Technology Transfer\\n        </a>\\n        <span>\\n         <a class=\"dropdown-item red\" href=\"/research/\">\\n          Office of\\n                                    RnD\\n         </a>\\n        </span>\\n       </div>\\n      </div>\\n     </li>\\n     <li class=\"nav-item dropdown\">\\n      <a aria-expanded=\"false\" aria-haspopup=\"true\" class=\"nav-link dropdown-toggle\" data-toggle=\"dropdown\" href=\"\" id=\"dropdown03\">\\n       Relations\\n      </a>\\n      <div aria-labelledby=\"dropdown01\" class=\"dropdown-menu\" style=\"margin-top: unset\">\\n       <div class=\"navbar-dropdown\">\\n        <a class=\"dropdown-item \" href=\"https://pcr.iith.ac.in/proffice.html#press\" target=\"_blank\">\\n         Press Releases\\n        </a>\\n        <a class=\"dropdown-item \" href=\"https://pcr.iith.ac.in/proffice.html#newsletter\" target=\"_blank\">\\n         Newsletter\\n        </a>\\n        <a class=\"dropdown-item \" href=\"https://pcr.iith.ac.in/croffice.html\" target=\"_blank\">\\n         Corporate Relations Office\\n        </a>\\n        <a class=\"dropdown-item \" href=\"/research/mous\">\\n         MoUs and Collaborations\\n        </a>\\n        <a class=\"dropdown-item \" href=\"/research/collaborations\">\\n         JICA Friendship Program\\n        </a>\\n        <span>\\n         <a class=\"dropdown-item red\" href=\"https://pcr.iith.ac.in/\" rel=\"noopener noreferrer\" target=\"_blank\">\\n          Public and Corporate Relations\\n         </a>\\n        </span>\\n        <span>\\n         <a class=\"dropdown-item red\" href=\"/iar/\">\\n          International and Alumni Relations\\n         </a>\\n        </span>\\n        <li class=\"nav-item dropdown\">\\n         <a aria-expanded=\"false\" aria-haspopup=\"true\" class=\"nav-link dropdown-toggle\" data-toggle=\"dropdown\" href=\"\" id=\"dropdown03\">\\n          About\\n         </a>\\n         <div aria-labelledby=\"dropdown01\" class=\"dropdown-menu\" style=\"margin-top: unset\">\\n          <div class=\"navbar-dropdown\">\\n           <a class=\"dropdown-item \" href=\"/about/aboutiith\">\\n            About IITH\\n           </a>\\n           <a class=\"dropdown-item \" href=\"/about/aboutiith/#reach\">\\n            How to Reach\\n           </a>\\n           <a class=\"dropdown-item \" href=\"/about/directory\">\\n            Directory\\n           </a>\\n           <a class=\"dropdown-item \" href=\"/reports\">\\n            NIRF &amp; Annual reports\\n           </a>\\n           <a class=\"dropdown-item \" href=\"/people/administration\">\\n            Administration\\n           </a>\\n           <li class=\"nav-item dropdown\">\\n            <a aria-expanded=\"false\" aria-haspopup=\"true\" class=\"nav-link dropdown-toggle\" data-toggle=\"dropdown\" href=\"\" id=\"dropdown03\">\\n             People\\n            </a>\\n            <div aria-labelledby=\"dropdown01\" class=\"dropdown-menu\" style=\"margin-top: unset\">\\n             <div class=\"navbar-dropdown\">\\n              <a class=\"dropdown-item \" href=\"/people/faculty\">\\n               Faculty\\n              </a>\\n              <a class=\"dropdown-item \" href=\"/people/staff\">\\n               Staff\\n              </a>\\n              <a class=\"dropdown-item \" href=\"http://gymkhana.iith.ac.in\" target=\"_blank\">\\n               Students\\n              </a>\\n              <span>\\n               <a class=\"dropdown-item red\" href=\"/about/directory/\">\\n                Directory\\n               </a>\\n              </span>\\n              <li class=\"nav-item btn-outline\">\\n               <a class=\"nav-link highlight\" href=\"/careers\">\\n                Careers\\n               </a>\\n              </li>\\n              <li class=\"nav-item btn-outline\">\\n               <a class=\"nav-link highlight\" href=\"/donations\">\\n                Donate to IITH\\n               </a>\\n              </li>\\n              <!-- <li class=\"nav-item\">                \\n                    <a class=\"nav-link highlight\" href=\"#\">AIMS</a>\\n                </li> -->\\n              <li class=\"nav-item\">\\n               <a class=\"nav-link highlight\" href=\"/search\">\\n                Search\\n               </a>\\n              </li>\\n              <!-- End Menu -->\\n             </div>\\n             <!-- End Menu Navigation\\n================================================== -->\\n             <div class=\"site-content\" id=\"site-content\">\\n              <div class=\"container-fluid\" style=\"flex:1;\">\\n               <section class=\"full-width side-gap main-carousel\">\\n                <div class=\"carousel slide\" data-interval=\"10000\" data-ride=\"carousel\" id=\"carouselExampleCaptions\">\\n                 <ol class=\"carousel-indicators\">\\n                  <li class=\"active\" data-slide-to=\"0\" data-target=\"#carouselExampleCaptions\">\\n                  </li>\\n                  <li data-slide-to=\"1\" data-target=\"#carouselExampleCaptions\">\\n                  </li>\\n                  <li data-slide-to=\"2\" data-target=\"#carouselExampleCaptions\">\\n                  </li>\\n                  <li data-slide-to=\"3\" data-target=\"#carouselExampleCaptions\">\\n                  </li>\\n                  <li data-slide-to=\"4\" data-target=\"#carouselExampleCaptions\">\\n                  </li>\\n                  <li data-slide-to=\"5\" data-target=\"#carouselExampleCaptions\">\\n                  </li>\\n                  <li data-slide-to=\"6\" data-target=\"#carouselExampleCaptions\">\\n                  </li>\\n                 </ol>\\n                 <div class=\"carousel-inner\">\\n                  <div class=\"carousel-item active\">\\n                   <img alt=\"IITH\" campus=\"\" class=\"w-100 desk\" src=\"assets/images/slider/photo-1.jpg\"/>\\n                   <img alt=\"IITH Campus\" class=\"w-100 mob\" src=\"assets/images/slider/mob/photo-1.jpg\"/>\\n                   <div class=\"carousel-overlay\">\\n                    <div class=\"carousel-caption d-md-block text-left col-lg-5 col-md-8\">\\n                     <h2>\\n                      <a href=\"\" style=\"color:inherit\">\\n                       IITH Campus\\n                      </a>\\n                     </h2>\\n                     <h5>\\n                      <a class=\"d-none d-md-block\" href=\"\" style=\"color:inherit\">\\n                      </a>\\n                     </h5>\\n                    </div>\\n                   </div>\\n                  </div>\\n                  <div class=\"carousel-item\">\\n                   <img alt=\"\" class=\"w-100 desk\" src=\"assets/images/slider/banner2.jpg\"/>\\n                   <img alt=\"Academic Block-A\" class=\"w-100 mob\" src=\"assets/images/slider/mob/banner2.jpg\"/>\\n                   <div class=\"carousel-overlay\">\\n                    <div class=\"carousel-caption d-md-block text-left col-lg-5 col-md-8\">\\n                     <h2>\\n                      <a href=\"\" style=\"color:inherit\">\\n                       Academic Block-A\\n                      </a>\\n                     </h2>\\n                     <h5>\\n                      <a class=\"d-none d-md-block\" href=\"\" style=\"color:inherit\">\\n                      </a>\\n                     </h5>\\n                    </div>\\n                   </div>\\n                  </div>\\n                  <div class=\"carousel-item\">\\n                   <img alt=\"\" class=\"w-100 desk\" src=\"assets/images/slider/photo-3.jpg\"/>\\n                   <img alt=\"IITH Campus\" class=\"w-100 mob\" src=\"assets/images/slider/mob/photo-3.jpg\"/>\\n                   <div class=\"carousel-overlay\">\\n                    <div class=\"carousel-caption d-md-block text-left col-lg-5 col-md-8\">\\n                     <h2>\\n                      <a href=\"\" style=\"color:inherit\">\\n                       IITH Campus\\n                      </a>\\n                     </h2>\\n                     <h5>\\n                      <a class=\"d-none d-md-block\" href=\"\" style=\"color:inherit\">\\n                      </a>\\n                     </h5>\\n                    </div>\\n                   </div>\\n                  </div>\\n                  <div class=\"carousel-item\">\\n                   <img alt=\"\" class=\"w-100 desk\" src=\"assets/images/slider/Campus-Academic-block.jpg\"/>\\n                   <img alt=\"View from atrium of &lt;/br&gt;academic block A\" class=\"w-100 mob\" src=\"assets/images/slider/mob/Campus-Academic-block.jpg\"/>\\n                   <div class=\"carousel-overlay\">\\n                    <div class=\"carousel-caption d-md-block text-left col-lg-5 col-md-8\">\\n                     <h2>\\n                      <a href=\"\" style=\"color:inherit\">\\n                       View from atrium of academic block A\\n                      </a>\\n                     </h2>\\n                     <h5>\\n                      <a class=\"d-none d-md-block\" href=\"\" style=\"color:inherit\">\\n                      </a>\\n                     </h5>\\n                    </div>\\n                   </div>\\n                  </div>\\n                  <div class=\"carousel-item\">\\n                   <img alt=\"\" class=\"w-100 desk\" src=\"assets/images/slider/photo-6.jpg\"/>\\n                   <img alt=\"IITH Campus &lt;/br&gt;Academic Block-C\" class=\"w-100 mob\" src=\"assets/images/slider/mob/photo-6.jpg\"/>\\n                   <div class=\"carousel-overlay\">\\n                    <div class=\"carousel-caption d-md-block text-left col-lg-5 col-md-8\">\\n                     <h2>\\n                      <a href=\"\" style=\"color:inherit\">\\n                       IITH Campus Academic Block-C\\n                      </a>\\n                     </h2>\\n                     <h5>\\n                      <a class=\"d-none d-md-block\" href=\"\" style=\"color:inherit\">\\n                      </a>\\n                     </h5>\\n                    </div>\\n                   </div>\\n                  </div>\\n                  <div class=\"carousel-item\">\\n                   <img alt=\"\" class=\"w-100 desk\" src=\"assets/images/slider/Laser-lab-bio-tech.jpg\"/>\\n                   <img alt=\"Laser Lab\" class=\"w-100 mob\" src=\"assets/images/slider/mob/Laser-lab-bio-tech.jpg\"/>\\n                   <div class=\"carousel-overlay\">\\n                    <div class=\"carousel-caption d-md-block text-left col-lg-5 col-md-8\">\\n                     <h2>\\n                      <a href=\"\" style=\"color:inherit\">\\n                       Laser Lab\\n                      </a>\\n                     </h2>\\n                     <h5>\\n                      <a class=\"d-none d-md-block\" href=\"\" style=\"color:inherit\">\\n                      </a>\\n                     </h5>\\n                    </div>\\n                   </div>\\n                  </div>\\n                  <div class=\"carousel-item\">\\n                   <img alt=\"\" class=\"w-100 desk\" src=\"assets/images/slider/banner1.jpg\"/>\\n                   <img alt=\"IITH - Japan Collaboration\" class=\"w-100 mob\" src=\"assets/images/slider/mob/banner1.jpg\"/>\\n                   <div class=\"carousel-overlay\">\\n                    <div class=\"carousel-caption d-md-block text-left col-lg-5 col-md-8\">\\n                     <h2>\\n                      <a href=\"/research/collaborations/\" style=\"color:inherit\">\\n                       IITH - Japan Collaboration\\n                      </a>\\n                     </h2>\\n                     <h5>\\n                      <a class=\"d-none d-md-block\" href=\"/research/collaborations/\" style=\"color:inherit\">\\n                      </a>\\n                     </h5>\\n                    </div>\\n                   </div>\\n                  </div>\\n                 </div>\\n                 <a class=\"carousel-control-prev\" data-slide=\"prev\" href=\"#carouselExampleCaptions\" role=\"button\">\\n                  <span aria-hidden=\"true\" class=\"carousel-control-prev-icon\">\\n                  </span>\\n                  <span class=\"sr-only\">\\n                   Previous\\n                  </span>\\n                 </a>\\n                 <a class=\"carousel-control-next\" data-slide=\"next\" href=\"#carouselExampleCaptions\" role=\"button\">\\n                  <span aria-hidden=\"true\" class=\"carousel-control-next-icon\">\\n                  </span>\\n                  <span class=\"sr-only\">\\n                   Next\\n                  </span>\\n                 </a>\\n                </div>\\n               </section>\\n               <section class=\"full-width side-gap\" style=\"text-align: center;\">\\n                <section class=\"part research\" style=\" margin: 2rem 0 2rem 0;\">\\n                 <h2 style=\"margin-bottom: 2vh;\">\\n                  IITH Celebrates Constitution Day\\n                 </h2>\\n                 <hr class=\"highlight\" style=\"margin-left: auto;\"/>\\n                 <h5>\\n                  <a href=\"/Preamble-of-the-Indian-Constitution/\">\\n                   Preamble of the Indian Constitution\\n                  </a>\\n                 </h5>\\n                </section>\\n               </section>\\n               <section class=\"full-width\">\\n                <section class=\"jumbotron jumbotron-fluid\">\\n                 <div class=\"full-width side-gap towers\">\\n                  <div class=\"row\" style=\"margin: 2rem auto\">\\n                   <div class=\"col-lg-4\">\\n                    <a class=\"dead\" href=\"/news\">\\n                     <h2>\\n                      IITH News\\n                     </h2>\\n                    </a>\\n                    <hr class=\"highlight\"/>\\n                    <img class=\"d-none d-md-block\" src=\"assets/images/towers/tower2.jpg\" style=\"margin-bottom:1rem;width:100%;\"/>\\n                    <h5>\\n                     <a href=\"/news/2020/11/10/3-Year-M-Tech-Admission-Portal-is-now-open/\">\\n                      3 Year M.Tech. Admission Portal is now open\\n                     </a>\\n                    </h5>\\n                    3 Year M.Tech. Program - Jan 2021 admission portal is now open.\\n\\nThe last date for appl...\\n                    <a href=\"/news/2020/11/10/3-Year-M-Tech-Admission-Portal-is-now-open/\">\\n                     more\\n                    </a>\\n                    <h5>\\n                     <small class=\"text-muted\">\\n                      10 Nov 2020\\n                     </small>\\n                    </h5>\\n                    <hr/>\\n                    <h5>\\n                     <a href=\"/news/2020/11/09/prof-Chandra-Shekhar-Sharma-wins-Swarna-Jayanti-Fellowship-Engineering-Sciences/\">\\n                      Prof. Chandra Shekhar Sharma wins the Swarna Jayanti Fellowship in the Engineering Sciences\\n                     </a>\\n                    </h5>\\n                    Prof. Chandra Shekhar Sharma has been selected for the prestigious for Swarna Jayanti F...\\n                    <a href=\"/news/2020/11/09/prof-Chandra-Shekhar-Sharma-wins-Swarna-Jayanti-Fellowship-Engineering-Sciences/\">\\n                     more\\n                    </a>\\n                    <h5>\\n                     <small class=\"text-muted\">\\n                      09 Nov 2020\\n                     </small>\\n                    </h5>\\n                    <hr/>\\n                    <h5>\\n                     <a href=\"/news/2020/11/08/Freshers-Orientation-and-FAQ/\">\\n                      Fresher\\'s Orientation and FAQ\\n                     </a>\\n                    </h5>\\n                    There will be a Welcome Address by the Director of IITH addressing all freshers on 10 N...\\n                    <a href=\"/news/2020/11/08/Freshers-Orientation-and-FAQ/\">\\n                     more\\n                    </a>\\n                    <h5>\\n                     <small class=\"text-muted\">\\n                      08 Nov 2020\\n                     </small>\\n                    </h5>\\n                    <hr/>\\n                    <h5>\\n                     <a href=\"/news/2020/11/03/Special-doctoral-program-call/\">\\n                      Special Doctoral Program call for Indian students affected by the pandemic\\n                     </a>\\n                    </h5>\\n                    We at IIT Hyderabad have resolved to take under our wing the academically bright and co...\\n                    <a href=\"/news/2020/11/03/Special-doctoral-program-call/\">\\n                     more\\n                    </a>\\n                    <h5>\\n                     <small class=\"text-muted\">\\n                      03 Nov 2020\\n                     </small>\\n                    </h5>\\n                    <a href=\"/news\">\\n                     <h5>\\n                      All News\\n                     </h5>\\n                    </a>\\n                   </div>\\n                   <div class=\"col-lg-4\">\\n                    <a class=\"dead\" href=\"/events\">\\n                     <h2>\\n                      Upcoming Events\\n                     </h2>\\n                    </a>\\n                    <hr class=\"highlight\"/>\\n                    <img class=\"d-none d-md-block\" src=\"assets/images/towers/tower3.jpg\" style=\"margin-bottom:1rem;width:100%;\"/>\\n                    <h5>\\n                     <a href=\"/events/2020/12/07/International-Workshop-on-Laboratory-Astrophysics-with-Intense-Laser/\">\\n                      International Workshop on Laboratory Astrophysics with Intense Laser: Particle Generation And Application\\n                     </a>\\n                    </h5>\\n                    Department of Physics is conducting a two-day workshop titled, “International Workshop ...\\n                    <a href=\"/events/2020/12/07/International-Workshop-on-Laboratory-Astrophysics-with-Intense-Laser/\">\\n                     more\\n                    </a>\\n                    <h5>\\n                     <small class=\"text-muted\">\\n                      07 Dec to 08 Dec\\n                     </small>\\n                    </h5>\\n                    <hr/>\\n                    <h5>\\n                     <a href=\"/events/2020/12/16/Advanced-Functional-Analysis-and-its-Applications-2020/\">\\n                      Advanced Functional Analysis and its Applications 2020\\n                     </a>\\n                    </h5>\\n                    IIT Hyderabad, in a joint collaboration with Dept. of Mathematics, NISER Bhubaneswar ar...\\n                    <a href=\"/events/2020/12/16/Advanced-Functional-Analysis-and-its-Applications-2020/\">\\n                     more\\n                    </a>\\n                    <h5>\\n                     <small class=\"text-muted\">\\n                      16 Dec to 24 Dec\\n                     </small>\\n                    </h5>\\n                    <hr/>\\n                    <a href=\"/events\">\\n                     <h5>\\n                      All Events\\n                     </h5>\\n                    </a>\\n                   </div>\\n                   <div class=\"col-lg-4\">\\n                    <h2>\\n                     Quick Links\\n                    </h2>\\n                    <hr class=\"highlight\"/>\\n                    <img class=\"d-none d-md-block\" src=\"assets/images/towers/tower1.jpg\" style=\"margin-bottom:1rem; width:100%;\"/>\\n                    <h5 style=\"padding-bottom: 3%;\">\\n                     <a href=\"/news/2020/11/10/3-Year-M-Tech-Admission-Portal-is-now-open/\">\\n                      3 Year M.Tech. Admission Portal is now open\\n                     </a>\\n                    </h5>\\n                    <h5 style=\"padding-bottom: 3%;\">\\n                     <a href=\"/news/2020/11/08/Freshers-Orientation-and-FAQ/\">\\n                      FAQs for BDes and BTech 2020 batch\\n                     </a>\\n                    </h5>\\n                    <h5 style=\"padding-bottom: 3%;\">\\n                     <a href=\"/Announcements-and-circulars-related-to-covid-19/\">\\n                      Covid-19\\n                     </a>\\n                    </h5>\\n                    <h5 style=\"padding-bottom: 3%;\">\\n                     <a href=\"https://iith.ac.in/academics/fee-structure/\">\\n                      Fee structure for the year 2020-21\\n                     </a>\\n                    </h5>\\n                    <h5 style=\"padding-bottom: 3%;\">\\n                     <a href=\"/careers/#results\">\\n                      Results of interviews conducted against Notification No IITH/2020/Rec/NF/8\\n                     </a>\\n                    </h5>\\n                   </div>\\n                  </div>\\n                 </div>\\n                </section>\\n               </section>\\n               <section class=\"full-width side-gap\">\\n                <section class=\"part research\" style=\" margin-top: 3rem;\">\\n                 <a class=\"dead\" href=\"/highlights\">\\n                  <h2 style=\"margin-bottom: 2vh;\">\\n                   Highlights\\n                  </h2>\\n                 </a>\\n                 <div class=\" row listrecent\">\\n                  <div class=\"col-lg-4 col-md-6 clearfix\" style=\"margin-bottom: 1.5vh;\">\\n                   <div class=\"card mb-2\" href=\"/main-highlights/2020/10/01/Tarun-Dalal-wins-the-KVRSS-Research-Award/\" style=\"height: 100%;\">\\n                    <img alt=\"Tarun Dalal wins the KVRSS Research Award\" class=\"card-img-top\" src=\"/assets/images/highlights/pjimage.jpg\"/>\\n                    <div class=\"card-block\">\\n                     <h5 class=\"card-title\">\\n                      <a class=\"dead\" href=\"/main-highlights/2020/10/01/Tarun-Dalal-wins-the-KVRSS-Research-Award/\">\\n                       Tarun Dalal wins the KVRSS Research Award\\n                      </a>\\n                     </h5>\\n                     <h6 class=\"card-text\">\\n                      Mr. Tarun Dalal, Research Scholar, has been awarded Dr. K. V. Rao Scientific Society Research award in the category of Mathematics for the year 2019-2020.\\nHe is working under the supervision of Dr. Narasimha Kumar, De...\\n                     </h6>\\n                     <div class=\"metafooter\">\\n                      <div>\\n                       <span class=\"post-date\">\\n                        <h6>\\n                         01 Oct 2020\\n                        </h6>\\n                       </span>\\n                      </div>\\n                     </div>\\n                     <div class=\"wrapfooter\">\\n                      <a href=\"/main-highlights/2020/10/01/Tarun-Dalal-wins-the-KVRSS-Research-Award/\">\\n                       <h6>\\n                        Read more\\n                       </h6>\\n                      </a>\\n                      <div class=\"clearfix\">\\n                      </div>\\n                     </div>\\n                    </div>\\n                   </div>\\n                  </div>\\n                  <div class=\"col-lg-4 col-md-6 clearfix\" style=\"margin-bottom: 1.5vh;\">\\n                   <div class=\"card mb-2\" href=\"/main-highlights/2020/06/14/Sriram-Dr-Subrahmanyam-Best-Student-Paper-WG2020/\" style=\"height: 100%;\">\\n                    <img alt=\"Sriram and Dr. Subrahmanyam have their paper selected as the Best Student Paper at WG2020\" class=\"card-img-top\" src=\"/assets/images/highlights/wg2020.jpg\"/>\\n                    <div class=\"card-block\">\\n                     <h5 class=\"card-title\">\\n                      <a class=\"dead\" href=\"/main-highlights/2020/06/14/Sriram-Dr-Subrahmanyam-Best-Student-Paper-WG2020/\">\\n                       Sriram and Dr. Subrahmanyam have their paper selected as the Best Student Paper at WG2020\\n                      </a>\\n                     </h5>\\n                     <h6 class=\"card-text\">\\n                      PhD student Sriram Bhyravarapu wins the best student paper award in WG 2020 for his work titled “Combinatorial Bounds for Conflict-free Coloring on Open Neighborhoods” co-authored with Dr. Subrahmanyam Kalyanasundaram...\\n                     </h6>\\n                     <div class=\"metafooter\">\\n                      <div>\\n                       <span class=\"post-date\">\\n                        <h6>\\n                         14 Jun 2020\\n                        </h6>\\n                       </span>\\n                      </div>\\n                     </div>\\n                     <div class=\"wrapfooter\">\\n                      <a href=\"/main-highlights/2020/06/14/Sriram-Dr-Subrahmanyam-Best-Student-Paper-WG2020/\">\\n                       <h6>\\n                        Read more\\n                       </h6>\\n                      </a>\\n                      <div class=\"clearfix\">\\n                      </div>\\n                     </div>\\n                    </div>\\n                   </div>\\n                  </div>\\n                  <div class=\"col-lg-4 col-md-6 clearfix\" style=\"margin-bottom: 1.5vh;\">\\n                   <div class=\"card mb-2\" href=\"/main-highlights/2020/04/19/IITH-student-awarded-the-Fulbright-Nehru-fellowship/\" style=\"height: 100%;\">\\n                    <img alt=\"IITH student awarded the Fulbright-Nehru fellowship\" class=\"card-img-top\" src=\"/assets/images/highlights/iith.jpg\"/>\\n                    <div class=\"card-block\">\\n                     <h5 class=\"card-title\">\\n                      <a class=\"dead\" href=\"/main-highlights/2020/04/19/IITH-student-awarded-the-Fulbright-Nehru-fellowship/\">\\n                       IITH student awarded the Fulbright-Nehru fellowship\\n                      </a>\\n                     </h5>\\n                     <h6 class=\"card-text\">\\n                      PhD student Sreya Majumdar, of Liberal Arts, has been awarded the Fulbright-Nehru Doctoral Research Fellowship (2020-21) by the United States India Educational Foundation (USIEF) to study midwifery and its history, an...\\n                     </h6>\\n                     <div class=\"metafooter\">\\n                      <div>\\n                       <span class=\"post-date\">\\n                        <h6>\\n                         19 Apr 2020\\n                        </h6>\\n                       </span>\\n                      </div>\\n                     </div>\\n                     <div class=\"wrapfooter\">\\n                      <a href=\"/main-highlights/2020/04/19/IITH-student-awarded-the-Fulbright-Nehru-fellowship/\">\\n                       <h6>\\n                        Read more\\n                       </h6>\\n                      </a>\\n                      <div class=\"clearfix\">\\n                      </div>\\n                     </div>\\n                    </div>\\n                   </div>\\n                  </div>\\n                 </div>\\n                </section>\\n               </section>\\n              </div>\\n              <!-- /.container -->\\n              <!-- Begin Footer\\n    ================================================== -->\\n              <footer class=\"footer\" style=\"bottom: 0;\">\\n               <div class=\"container\">\\n                <div class=\"justify-content-around row\">\\n                 <div class=\"col-sm-2 d-none d-md-block\">\\n                  <div class=\"footer-widget\">\\n                   <h5 class=\"title\">\\n                    Academics\\n                   </h5>\\n                   <ul>\\n                    <li>\\n                     <a href=\"https://aims.iith.ac.in/aims/\" target=\"_blank\" title=\"Academic Institute Management System\">\\n                      AIMS (Intranet)\\n                     </a>\\n                    </li>\\n                    <li>\\n                     <a href=\"https://www.iith.ac.in/~gian/\" target=\"_blank\" title=\"Global Initiative of Academic Networks\">\\n                      GIAN\\n                     </a>\\n                    </li>\\n                    <li>\\n                     <a href=\"http://teqip.iith.ac.in/\" target=\"_blank\" title=\"Technical Education Quality Improvement Programme\">\\n                      TEQIP\\n                     </a>\\n                    </li>\\n                    <li>\\n                     <a href=\"/academics/index.html\" title=\"\">\\n                      Office of Academic Affairs\\n                     </a>\\n                    </li>\\n                    <li>\\n                     <a href=\"http://raiith.iith.ac.in/\" target=\"_blank\" title=\"\">\\n                      Research Archive of IITH\\n                     </a>\\n                    </li>\\n                   </ul>\\n                  </div>\\n                 </div>\\n                 <div class=\"col-sm-2 d-none d-md-block\">\\n                  <div class=\"footer-widget\">\\n                   <h5 class=\"title\">\\n                    Facilities\\n                   </h5>\\n                   <ul style=\"padding-left: 0 ;\">\\n                    <li>\\n                     <a href=\"http://library.iith.ac.in/\" target=\"_blank\" title=\"\">\\n                      Library\\n                     </a>\\n                    </li>\\n                    <li>\\n                     <a href=\"/computer-centre/\" title=\"\">\\n                      Computer Centre\\n                     </a>\\n                    </li>\\n                    <li>\\n                     <a href=\"https://cws.iith.ac.in\" target=\"_blank\" title=\"\">\\n                      Central Workshop\\n                     </a>\\n                    </li>\\n                    <li>\\n                     <a href=\"/bus_schedule/\" title=\"\">\\n                      Bus Schedule\\n                     </a>\\n                    </li>\\n                    <li>\\n                     <a href=\"/Medical-Facilities/\" title=\"\">\\n                      Medical Facilities\\n                     </a>\\n                    </li>\\n                   </ul>\\n                  </div>\\n                 </div>\\n                 <div class=\"col-sm-2 d-none d-md-block\">\\n                  <div class=\"footer-widget\">\\n                   <h5 class=\"title\">\\n                    Campus Life\\n                   </h5>\\n                   <ul>\\n                    <li>\\n                     <a href=\"/about/campus_services/\" title=\"\">\\n                      Campus Services\\n                     </a>\\n                    </li>\\n                    <li>\\n                     <a href=\"/about/aboutiith/#reach\" title=\"\">\\n                      Getting Here\\n                     </a>\\n                    </li>\\n                    <li>\\n                     <a href=\"http://security.iith.ac.in/\" target=\"_blank\" title=\"\">\\n                      Security\\n                     </a>\\n                    </li>\\n                   </ul>\\n                  </div>\\n                 </div>\\n                 <div class=\"col-sm-2 d-none d-md-block\">\\n                  <div class=\"footer-widget\">\\n                   <h5 class=\"title\">\\n                    Councils\\n                   </h5>\\n                   <ul>\\n                    <li>\\n                     <a href=\"http://greenoffice.iith.ac.in/\" target=\"_blank\" title=\"\">\\n                      Green Office\\n                     </a>\\n                    </li>\\n                    <li>\\n                     <a href=\"http://womencell.iith.ac.in/\" target=\"_blank\" title=\"\">\\n                      Women\\'s Cell\\n                     </a>\\n                    </li>\\n                    <li>\\n                     <a href=\"http://gymkhana.iith.ac.in/\" target=\"_blank\" title=\"\">\\n                      Gymkhana (Student Council)\\n                     </a>\\n                    </li>\\n                    <li>\\n                     <a href=\"https://ebsb.iith.ac.in/\" target=\"_blank\" title=\"Ek Bharat Shreshtha Bharat\">\\n                      EBSB Club\\n                     </a>\\n                    </li>\\n                    <li>\\n                     <a href=\"http://hostel.iith.ac.in/\" target=\"_blank\" title=\"\">\\n                      Hostel Coordinating Unit\\n                     </a>\\n                    </li>\\n                    <li>\\n                     <a href=\"https://sites.google.com/iith.ac.in/safety\" target=\"_blank\" title=\"\">\\n                      Laboratory Safety\\n                     </a>\\n                    </li>\\n                   </ul>\\n                  </div>\\n                 </div>\\n                 <div class=\"col-sm-2 d-none d-md-block\">\\n                  <div class=\"footer-widget\">\\n                   <h5 class=\"title\">\\n                    Quick Links\\n                   </h5>\\n                   <ul>\\n                    <li>\\n                     <a href=\"/tenders/\" title=\"\">\\n                      Tender Invitations\\n                     </a>\\n                    </li>\\n                    <li>\\n                     <a href=\"http://intranet.iith.ac.in\" target=\"_blank\" title=\"\">\\n                      Intranet\\n                     </a>\\n                    </li>\\n                    <li>\\n                     <a href=\"/emergency_contacts/\" title=\"\">\\n                      Emergency Contacts\\n                     </a>\\n                    </li>\\n                    <li>\\n                     <a href=\"/web_team/\" title=\"\">\\n                      Website Team\\n                     </a>\\n                    </li>\\n                   </ul>\\n                  </div>\\n                 </div>\\n                 <div class=\"d-md-none\" id=\"accordion\">\\n                  <div class=\"card\">\\n                   <div class=\"card-header\" id=\"headingOne\">\\n                    <h5 class=\"mb-0\">\\n                     <button aria-controls=\"collapseOne\" aria-expanded=\"false\" class=\"btn btn-dark\" data-target=\"#collapseOne\" data-toggle=\"collapse\">\\n                      <h5 class=\"title\">\\n                       Academics\\n                      </h5>\\n                     </button>\\n                     <a aria-controls=\"collapseOne\" aria-expanded=\"false\" class=\"expand-icon\" data-target=\"#collapseOne\" data-toggle=\"collapse\">\\n                      <i aria-hidden=\"true\" class=\"fa fa-plus\">\\n                      </i>\\n                     </a>\\n                    </h5>\\n                   </div>\\n                   <div aria-labelledby=\"headingOne\" class=\"collapse\" data-parent=\"#accordion\" id=\"collapseOne\">\\n                    <div class=\"card-body\">\\n                     <ul>\\n                      <li>\\n                       <a href=\"https://aims.iith.ac.in/aims/\" target=\"_blank\" title=\"Academic Institute Management System\">\\n                        AIMS (Intranet)\\n                       </a>\\n                      </li>\\n                      <li>\\n                       <a href=\"https://www.iith.ac.in/~gian/\" target=\"_blank\" title=\"Global Initiative of Academic Networks\">\\n                        GIAN\\n                       </a>\\n                      </li>\\n                      <li>\\n                       <a href=\"http://teqip.iith.ac.in/\" target=\"_blank\" title=\"Technical Education Quality Improvement Programme\">\\n                        TEQIP\\n                       </a>\\n                      </li>\\n                      <li>\\n                       <a href=\"/academics/index.html\" title=\"\">\\n                        Office of Academic Affairs\\n                       </a>\\n                      </li>\\n                      <li>\\n                       <a href=\"http://raiith.iith.ac.in/\" target=\"_blank\" title=\"\">\\n                        Research Archive of IITH\\n                       </a>\\n                      </li>\\n                     </ul>\\n                    </div>\\n                   </div>\\n                  </div>\\n                  <div class=\"card\">\\n                   <div class=\"card-header\" id=\"headingTwo\">\\n                    <h5 class=\"mb-0\">\\n                     <button aria-controls=\"collapseTwo\" aria-expanded=\"false\" class=\"btn btn-dark collapsed\" data-target=\"#collapseTwo\" data-toggle=\"collapse\">\\n                      <h5 class=\"title\">\\n                       Facilities\\n                      </h5>\\n                     </button>\\n                     <a aria-controls=\"collapseTwo\" aria-expanded=\"false\" class=\"expand-icon\" data-target=\"#collapseTwo\" data-toggle=\"collapse\">\\n                      <i aria-hidden=\"true\" class=\"fa fa-plus\">\\n                      </i>\\n                     </a>\\n                    </h5>\\n                   </div>\\n                   <div aria-labelledby=\"headingTwo\" class=\"collapse\" data-parent=\"#accordion\" id=\"collapseTwo\">\\n                    <div class=\"card-body\">\\n                     <ul>\\n                      <li>\\n                       <a href=\"http://library.iith.ac.in/\" target=\"_blank\" title=\"\">\\n                        Library\\n                       </a>\\n                      </li>\\n                      <li>\\n                       <a href=\"/computer-centre/\" title=\"\">\\n                        Computer Centre\\n                       </a>\\n                      </li>\\n                      <li>\\n                       <a href=\"https://cws.iith.ac.in\" target=\"_blank\" title=\"\">\\n                        Central Workshop\\n                       </a>\\n                      </li>\\n                      <li>\\n                       <a href=\"/bus_schedule/\" title=\"\">\\n                        Bus Schedule\\n                       </a>\\n                      </li>\\n                      <li>\\n                       <a href=\"/Medical-Facilities/\" title=\"\">\\n                        Medical Facilities\\n                       </a>\\n                      </li>\\n                     </ul>\\n                    </div>\\n                   </div>\\n                  </div>\\n                  <div class=\"card\">\\n                   <div class=\"card-header\" id=\"headingThree\">\\n                    <h5 class=\"mb-0\">\\n                     <button aria-controls=\"collapseThree\" aria-expanded=\"false\" class=\"btn btn-dark collapsed\" data-target=\"#collapseThree\" data-toggle=\"collapse\">\\n                      <h5 class=\"title\">\\n                       Campus Life\\n                      </h5>\\n                     </button>\\n                     <a aria-controls=\"collapseThree\" aria-expanded=\"false\" class=\"expand-icon\" data-target=\"#collapseThree\" data-toggle=\"collapse\">\\n                      <i aria-hidden=\"true\" class=\"fa fa-plus\">\\n                      </i>\\n                     </a>\\n                    </h5>\\n                   </div>\\n                   <div aria-labelledby=\"headingThree\" class=\"collapse\" data-parent=\"#accordion\" id=\"collapseThree\">\\n                    <div class=\"card-body\">\\n                     <ul>\\n                      <li>\\n                       <a href=\"/about/campus_services/\" title=\"\">\\n                        Campus Services\\n                       </a>\\n                      </li>\\n                      <li>\\n                       <a href=\"/about/aboutiith/#reach\" title=\"\">\\n                        Getting Here\\n                       </a>\\n                      </li>\\n                      <li>\\n                       <a href=\"http://security.iith.ac.in/\" target=\"_blank\" title=\"\">\\n                        Security\\n                       </a>\\n                      </li>\\n                     </ul>\\n                    </div>\\n                   </div>\\n                  </div>\\n                  <div class=\"card\">\\n                   <div class=\"card-header\" id=\"headingFour\">\\n                    <h5 class=\"mb-0\">\\n                     <button aria-controls=\"collapseFour\" aria-expanded=\"false\" class=\"btn btn-dark collapsed\" data-target=\"#collapseFour\" data-toggle=\"collapse\">\\n                      <h5 class=\"title\">\\n                       Councils\\n                      </h5>\\n                     </button>\\n                     <a aria-controls=\"collapseFour\" aria-expanded=\"false\" class=\"expand-icon\" data-target=\"#collapseFour\" data-toggle=\"collapse\">\\n                      <i aria-hidden=\"true\" class=\"fa fa-plus\">\\n                      </i>\\n                     </a>\\n                    </h5>\\n                   </div>\\n                   <div aria-labelledby=\"headingFour\" class=\"collapse\" data-parent=\"#accordion\" id=\"collapseFour\">\\n                    <div class=\"card-body\">\\n                     <ul>\\n                      <li>\\n                       <a href=\"http://greenoffice.iith.ac.in/\" target=\"_blank\" title=\"\">\\n                        Green Office\\n                       </a>\\n                      </li>\\n                      <li>\\n                       <a href=\"http://womencell.iith.ac.in/\" target=\"_blank\" title=\"\">\\n                        Women\\'s Cell\\n                       </a>\\n                      </li>\\n                      <li>\\n                       <a href=\"http://gymkhana.iith.ac.in/\" target=\"_blank\" title=\"\">\\n                        Gymkhana (Student Council)\\n                       </a>\\n                      </li>\\n                      <li>\\n                       <a href=\"https://ebsb.iith.ac.in/\" target=\"_blank\" title=\"Ek Bharat Shreshtha Bharat\">\\n                        EBSB Club\\n                       </a>\\n                      </li>\\n                      <li>\\n                       <a href=\"http://hostel.iith.ac.in/\" target=\"_blank\" title=\"\">\\n                        Hostel Coordinating Unit\\n                       </a>\\n                      </li>\\n                      <li>\\n                       <a href=\"https://sites.google.com/iith.ac.in/safety\" target=\"_blank\" title=\"\">\\n                        Laboratory Safety\\n                       </a>\\n                      </li>\\n                     </ul>\\n                    </div>\\n                   </div>\\n                  </div>\\n                  <div class=\"card\">\\n                   <div class=\"card-header\" id=\"headingFive\">\\n                    <h5 class=\"mb-0\">\\n                     <button aria-controls=\"collapseFive\" aria-expanded=\"false\" class=\"btn btn-dark collapsed\" data-target=\"#collapseFive\" data-toggle=\"collapse\">\\n                      <h5 class=\"title\">\\n                       Quick Links\\n                      </h5>\\n                     </button>\\n                     <a aria-controls=\"collapseFour\" aria-expanded=\"false\" class=\"expand-icon\" data-target=\"#collapseFive\" data-toggle=\"collapse\">\\n                      <i aria-hidden=\"true\" class=\"fa fa-plus\">\\n                      </i>\\n                     </a>\\n                    </h5>\\n                   </div>\\n                   <div aria-labelledby=\"headingFive\" class=\"collapse\" data-parent=\"#accordion\" id=\"collapseFive\">\\n                    <div class=\"card-body\">\\n                     <ul>\\n                      <li>\\n                       <a href=\"/tenders/\" title=\"\">\\n                        Tender Invitations\\n                       </a>\\n                      </li>\\n                      <li>\\n                       <a href=\"http://intranet.iith.ac.in\" target=\"_blank\" title=\"\">\\n                        Intranet\\n                       </a>\\n                      </li>\\n                      <li>\\n                       <a href=\"/emergency_contacts/\" title=\"\">\\n                        Emergency Contacts\\n                       </a>\\n                      </li>\\n                      <li>\\n                       <a href=\"/web_team/\" title=\"\">\\n                        Website Team\\n                       </a>\\n                      </li>\\n                     </ul>\\n                    </div>\\n                   </div>\\n                  </div>\\n                 </div>\\n                </div>\\n                <!-- Row Ends -->\\n                <div class=\"footersocial text-center\">\\n                 <a href=\"https://www.facebook.com/iithyderabad/\">\\n                  <i aria-hidden=\"true\" class=\"fa fa-facebook\">\\n                  </i>\\n                 </a>\\n                 <a href=\"https://twitter.com/IITHyderabad\">\\n                  <i aria-hidden=\"true\" class=\"fa fa-twitter\">\\n                  </i>\\n                 </a>\\n                 <a href=\"https://www.linkedin.com/school/indian-inst-of-technology-hyderabad/\">\\n                  <i aria-hidden=\"true\" class=\"fa fa-linkedin\">\\n                  </i>\\n                 </a>\\n                </div>\\n               </div>\\n               <!-- Container Ends  -->\\n               <div class=\"container-fluid\">\\n                <div class=\"copyright\">\\n                 <p class=\"pull-left\">\\n                  © 2020 Indian Institute of Technology Hyderabad, Kandi, Sangareddy, Telangana, India. All\\n                        rights reserved.\\n                 </p>\\n                 <p class=\"pull-right\">\\n                  <a href=\"/sitemap.xml\">\\n                   Sitemap |\\n                  </a>\\n                  <a href=\"/rti\">\\n                   RTI |\\n                  </a>\\n                  <a href=\"/contact_us\">\\n                   Contact us |\\n                  </a>\\n                  <a href=\"https://translate.google.com/translate?depth=1&amp;rurl=translate.google.co.in&amp;sl=auto&amp;sp=nmt4&amp;tl=hi&amp;u=https://iith.ac.in/\" target=\"_blank\">\\n                   Hindi site |\\n                  </a>\\n                 </p>\\n                 <div class=\"clearfix\">\\n                 </div>\\n                </div>\\n               </div>\\n              </footer>\\n             </div>\\n             <!-- /.site-content>\\n\\nJavaScript\\n================================================== -->\\n             <script crossorigin=\"anonymous\" integrity=\"sha384-DztdAPBWPRXSA/3eYEEUWrWCy7G5KFbe8fFjk5JAIxUYHKkDx6Qin1DkWx51bBrb\" src=\"https://cdnjs.cloudflare.com/ajax/libs/tether/1.4.0/js/tether.min.js\">\\n             </script>\\n             <script crossorigin=\"anonymous\" integrity=\"sha384-vBWWzlZJ8ea9aCX4pEW3rVHjgjt7zpkNpZk+02D9phzyeVkE+jo0ieGizqPLForn\" src=\"https://maxcdn.bootstrapcdn.com/bootstrap/4.0.0-alpha.6/js/bootstrap.min.js\">\\n             </script>\\n             <script src=\"/assets/js/ie10-viewport-bug-workaround.js\">\\n             </script>\\n             <script src=\"/assets/js/masonry.pkgd.min.js\" type=\"text/javascript\">\\n             </script>\\n             <script src=\"/assets/js/theme.js\">\\n             </script>\\n             <style>\\n              .dropdown:hover>.dropdown-menu {\\n            display: block;\\n        }\\n\\n        .dropdown>.dropdown-toggle:active {\\n            /*Without this, clicking will make it sticky*/\\n            pointer-events: none;\\n        }\\n             </style>\\n            </div>\\n           </li>\\n          </div>\\n         </div>\\n        </li>\\n       </div>\\n      </div>\\n     </li>\\n    </ul>\\n   </div>\\n  </header>\\n </body>\\n</html>'"
            ]
          },
          "metadata": {
            "tags": []
          },
          "execution_count": 76
        }
      ]
    },
    {
      "cell_type": "markdown",
      "metadata": {
        "id": "GMOJahYLC-EU"
      },
      "source": [
        "`Get all social links`"
      ]
    },
    {
      "cell_type": "code",
      "metadata": {
        "colab": {
          "base_uri": "https://localhost:8080/"
        },
        "id": "UuyMQ35Z5cHx",
        "outputId": "5ef7eca4-eae7-42e6-f31f-a5ed0043e4da"
      },
      "source": [
        "links = webpage.select(\"a\")\n",
        "links[:5]"
      ],
      "execution_count": 80,
      "outputs": [
        {
          "output_type": "execute_result",
          "data": {
            "text/plain": [
              "[<a class=\"navbar-brand\" href=\"/\">\n",
              " <!-- <img src=\"/assets/images/logo.png\" alt=\"IIT Hyderabad\" style=\"width:55%\"> -->\n",
              " <img src=\"/assets/images/horzlogolong.png\"/>\n",
              " </a>,\n",
              " <a aria-expanded=\"false\" aria-haspopup=\"true\" class=\"nav-link dropdown-toggle\" data-toggle=\"dropdown\" href=\"\" id=\"dropdown01\">Academics</a>,\n",
              " <a class=\"dropdown-item \" href=\"/academics/index.html#admissions\">Admissions</a>,\n",
              " <a class=\"dropdown-item \" href=\"/academics/programmes-offered\">Programs</a>,\n",
              " <a class=\"dropdown-item \" href=\"/academics/departments\">Departments</a>]"
            ]
          },
          "metadata": {
            "tags": []
          },
          "execution_count": 80
        }
      ]
    },
    {
      "cell_type": "code",
      "metadata": {
        "colab": {
          "base_uri": "https://localhost:8080/"
        },
        "id": "qj4VwECmDNEc",
        "outputId": "5c6d6fc9-14ef-4677-b9ac-4b9c43a8de03"
      },
      "source": [
        "links = webpage.select(\"div.footersocial.text-center\")\n",
        "links"
      ],
      "execution_count": 92,
      "outputs": [
        {
          "output_type": "execute_result",
          "data": {
            "text/plain": [
              "[<div class=\"footersocial text-center\">\n",
              " <a href=\"https://www.facebook.com/iithyderabad/\"><i aria-hidden=\"true\" class=\"fa fa-facebook\"></i></a>\n",
              " <a href=\"https://twitter.com/IITHyderabad\"><i aria-hidden=\"true\" class=\"fa fa-twitter\"></i></a>\n",
              " <a href=\"https://www.linkedin.com/school/indian-inst-of-technology-hyderabad/\"><i aria-hidden=\"true\" class=\"fa fa-linkedin\"></i></a>\n",
              " </div>]"
            ]
          },
          "metadata": {
            "tags": []
          },
          "execution_count": 92
        }
      ]
    },
    {
      "cell_type": "code",
      "metadata": {
        "colab": {
          "base_uri": "https://localhost:8080/"
        },
        "id": "Ex14JJyFD1Bo",
        "outputId": "22cb006a-093e-4f26-ed82-1f942d6473aa"
      },
      "source": [
        "links1 = webpage.select(\"div.footersocial.text-center a\")\n",
        "links1"
      ],
      "execution_count": 93,
      "outputs": [
        {
          "output_type": "execute_result",
          "data": {
            "text/plain": [
              "[<a href=\"https://www.facebook.com/iithyderabad/\"><i aria-hidden=\"true\" class=\"fa fa-facebook\"></i></a>,\n",
              " <a href=\"https://twitter.com/IITHyderabad\"><i aria-hidden=\"true\" class=\"fa fa-twitter\"></i></a>,\n",
              " <a href=\"https://www.linkedin.com/school/indian-inst-of-technology-hyderabad/\"><i aria-hidden=\"true\" class=\"fa fa-linkedin\"></i></a>]"
            ]
          },
          "metadata": {
            "tags": []
          },
          "execution_count": 93
        }
      ]
    },
    {
      "cell_type": "code",
      "metadata": {
        "colab": {
          "base_uri": "https://localhost:8080/"
        },
        "id": "z9npybBUFwR3",
        "outputId": "2804a4a3-1bf0-4f29-c76d-3b63543c54bc"
      },
      "source": [
        "actual_links = [link[\"href\"] for link in links1] #dont use links it will throw error now knowing what is link[\"href \"] for div class\n",
        "actual_links"
      ],
      "execution_count": 96,
      "outputs": [
        {
          "output_type": "execute_result",
          "data": {
            "text/plain": [
              "['https://www.facebook.com/iithyderabad/',\n",
              " 'https://twitter.com/IITHyderabad',\n",
              " 'https://www.linkedin.com/school/indian-inst-of-technology-hyderabad/']"
            ]
          },
          "metadata": {
            "tags": []
          },
          "execution_count": 96
        }
      ]
    },
    {
      "cell_type": "markdown",
      "metadata": {
        "id": "CQcrA7JBGSkG"
      },
      "source": [
        "### Method 2"
      ]
    },
    {
      "cell_type": "code",
      "metadata": {
        "id": "6eR2qRZGF-Gx"
      },
      "source": [
        "links2 =webpage.find(\"footer\",attrs={\"div\":\"footersocial.text-center\"})\n",
        "links2"
      ],
      "execution_count": 98,
      "outputs": []
    },
    {
      "cell_type": "code",
      "metadata": {
        "id": "4IZ4r5A_GoSW"
      },
      "source": [
        ""
      ],
      "execution_count": null,
      "outputs": []
    }
  ]
}